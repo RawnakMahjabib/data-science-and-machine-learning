{
 "cells": [
  {
   "cell_type": "code",
   "execution_count": 2,
   "metadata": {},
   "outputs": [
    {
     "name": "stdout",
     "output_type": "stream",
     "text": [
      "32\n"
     ]
    }
   ],
   "source": [
    "# These are written in camel-case. You see it often in JAVA but much less often in Python. \n",
    "myAge = 32\n",
    "print(myAge)"
   ]
  },
  {
   "cell_type": "code",
   "execution_count": 3,
   "metadata": {},
   "outputs": [
    {
     "name": "stdout",
     "output_type": "stream",
     "text": [
      "33\n"
     ]
    }
   ],
   "source": [
    "myAge = 33\n",
    "print(myAge)"
   ]
  },
  {
   "cell_type": "code",
   "execution_count": 4,
   "metadata": {},
   "outputs": [
    {
     "name": "stdout",
     "output_type": "stream",
     "text": [
      "11.0\n"
     ]
    }
   ],
   "source": [
    "print(myAge/3)"
   ]
  },
  {
   "cell_type": "code",
   "execution_count": 5,
   "metadata": {},
   "outputs": [
    {
     "name": "stdout",
     "output_type": "stream",
     "text": [
      "34\n"
     ]
    }
   ],
   "source": [
    "myAge = myAge + 1\n",
    "print(myAge)"
   ]
  },
  {
   "cell_type": "code",
   "execution_count": 6,
   "metadata": {},
   "outputs": [
    {
     "name": "stdout",
     "output_type": "stream",
     "text": [
      "36.17\n",
      "0.125\n",
      "4.52125\n"
     ]
    }
   ],
   "source": [
    "restaurantBill = 36.17\n",
    "print(restaurantBill)\n",
    "serviceCharge = 0.125\n",
    "print(serviceCharge)\n",
    "print(restaurantBill * serviceCharge)"
   ]
  },
  {
   "cell_type": "code",
   "execution_count": 7,
   "metadata": {},
   "outputs": [
    {
     "data": {
      "text/plain": [
       "int"
      ]
     },
     "execution_count": 7,
     "metadata": {},
     "output_type": "execute_result"
    }
   ],
   "source": [
    "type(33)"
   ]
  },
  {
   "cell_type": "code",
   "execution_count": 8,
   "metadata": {},
   "outputs": [
    {
     "data": {
      "text/plain": [
       "float"
      ]
     },
     "execution_count": 8,
     "metadata": {},
     "output_type": "execute_result"
    }
   ],
   "source": [
    "type(33.6)"
   ]
  },
  {
   "cell_type": "code",
   "execution_count": 9,
   "metadata": {},
   "outputs": [
    {
     "data": {
      "text/plain": [
       "str"
      ]
     },
     "execution_count": 9,
     "metadata": {},
     "output_type": "execute_result"
    }
   ],
   "source": [
    "type('Phillip')"
   ]
  },
  {
   "cell_type": "code",
   "execution_count": 10,
   "metadata": {},
   "outputs": [
    {
     "data": {
      "text/plain": [
       "int"
      ]
     },
     "execution_count": 10,
     "metadata": {},
     "output_type": "execute_result"
    }
   ],
   "source": [
    "type(myAge)"
   ]
  },
  {
   "cell_type": "code",
   "execution_count": 11,
   "metadata": {},
   "outputs": [
    {
     "data": {
      "text/plain": [
       "float"
      ]
     },
     "execution_count": 11,
     "metadata": {},
     "output_type": "execute_result"
    }
   ],
   "source": [
    "type(restaurantBill)"
   ]
  },
  {
   "cell_type": "code",
   "execution_count": 12,
   "metadata": {},
   "outputs": [
    {
     "data": {
      "text/plain": [
       "str"
      ]
     },
     "execution_count": 12,
     "metadata": {},
     "output_type": "execute_result"
    }
   ],
   "source": [
    "myName = \"Phillip\"\n",
    "type(myName)"
   ]
  },
  {
   "cell_type": "code",
   "execution_count": 13,
   "metadata": {},
   "outputs": [
    {
     "data": {
      "text/plain": [
       "list"
      ]
     },
     "execution_count": 13,
     "metadata": {},
     "output_type": "execute_result"
    }
   ],
   "source": [
    "primeNumbers = [3, 7, 61, 29, 199]\n",
    "type(primeNumbers)"
   ]
  },
  {
   "cell_type": "code",
   "execution_count": 14,
   "metadata": {},
   "outputs": [
    {
     "data": {
      "text/plain": [
       "list"
      ]
     },
     "execution_count": 14,
     "metadata": {},
     "output_type": "execute_result"
    }
   ],
   "source": [
    "coolPeople = ['Jay Z', 'Ghandi', 'me']\n",
    "primeandPeople = ['King Arthur', 17, 11, 'Jennifer Lopez']\n",
    "type(primeandPeople)"
   ]
  },
  {
   "cell_type": "code",
   "execution_count": 15,
   "metadata": {},
   "outputs": [
    {
     "data": {
      "text/plain": [
       "61"
      ]
     },
     "execution_count": 15,
     "metadata": {},
     "output_type": "execute_result"
    }
   ],
   "source": [
    "# retrieving data from a list \n",
    "primeNumbers[2]"
   ]
  },
  {
   "cell_type": "code",
   "execution_count": 16,
   "metadata": {},
   "outputs": [
    {
     "name": "stdout",
     "output_type": "stream",
     "text": [
      "199\n"
     ]
    }
   ],
   "source": [
    "bestPrimeEver = primeNumbers[4]\n",
    "print(bestPrimeEver)"
   ]
  },
  {
   "cell_type": "code",
   "execution_count": 17,
   "metadata": {},
   "outputs": [],
   "source": [
    "import pandas as pd\n",
    "data = pd.read_csv('lsd_math_score_data.csv')"
   ]
  },
  {
   "cell_type": "code",
   "execution_count": 18,
   "metadata": {},
   "outputs": [
    {
     "name": "stdout",
     "output_type": "stream",
     "text": [
      "   Time_Delay_in_Minutes  LSD_ppm  Avg_Math_Test_Score\n",
      "0                      5     1.17                78.93\n",
      "1                     15     2.97                58.20\n",
      "2                     30     3.26                67.47\n",
      "3                     60     4.69                37.47\n",
      "4                    120     5.83                45.65\n",
      "5                    240     6.00                32.92\n",
      "6                    480     6.41                29.97\n"
     ]
    }
   ],
   "source": [
    "print(data)"
   ]
  },
  {
   "cell_type": "code",
   "execution_count": 19,
   "metadata": {},
   "outputs": [
    {
     "data": {
      "text/plain": [
       "pandas.core.frame.DataFrame"
      ]
     },
     "execution_count": 19,
     "metadata": {},
     "output_type": "execute_result"
    }
   ],
   "source": [
    "type(data)"
   ]
  },
  {
   "cell_type": "code",
   "execution_count": 20,
   "metadata": {},
   "outputs": [
    {
     "name": "stdout",
     "output_type": "stream",
     "text": [
      "0    78.93\n",
      "1    58.20\n",
      "2    67.47\n",
      "3    37.47\n",
      "4    45.65\n",
      "5    32.92\n",
      "6    29.97\n",
      "Name: Avg_Math_Test_Score, dtype: float64\n"
     ]
    }
   ],
   "source": [
    "onlyMathScores = data['Avg_Math_Test_Score']\n",
    "print(onlyMathScores)"
   ]
  },
  {
   "cell_type": "code",
   "execution_count": 21,
   "metadata": {},
   "outputs": [],
   "source": [
    "# Adds a new column to an existing data frame\n",
    "data['Test_Subject'] = 'Jennifer Lopez'"
   ]
  },
  {
   "cell_type": "code",
   "execution_count": 22,
   "metadata": {},
   "outputs": [
    {
     "name": "stdout",
     "output_type": "stream",
     "text": [
      "   Time_Delay_in_Minutes  LSD_ppm  Avg_Math_Test_Score    Test_Subject\n",
      "0                      5     1.17                78.93  Jennifer Lopez\n",
      "1                     15     2.97                58.20  Jennifer Lopez\n",
      "2                     30     3.26                67.47  Jennifer Lopez\n",
      "3                     60     4.69                37.47  Jennifer Lopez\n",
      "4                    120     5.83                45.65  Jennifer Lopez\n",
      "5                    240     6.00                32.92  Jennifer Lopez\n",
      "6                    480     6.41                29.97  Jennifer Lopez\n"
     ]
    }
   ],
   "source": [
    "print(data)"
   ]
  },
  {
   "cell_type": "code",
   "execution_count": 23,
   "metadata": {},
   "outputs": [],
   "source": [
    "data['High_Score'] = 100"
   ]
  },
  {
   "cell_type": "code",
   "execution_count": 24,
   "metadata": {},
   "outputs": [
    {
     "name": "stdout",
     "output_type": "stream",
     "text": [
      "   Time_Delay_in_Minutes  LSD_ppm  Avg_Math_Test_Score    Test_Subject  \\\n",
      "0                      5     1.17                78.93  Jennifer Lopez   \n",
      "1                     15     2.97                58.20  Jennifer Lopez   \n",
      "2                     30     3.26                67.47  Jennifer Lopez   \n",
      "3                     60     4.69                37.47  Jennifer Lopez   \n",
      "4                    120     5.83                45.65  Jennifer Lopez   \n",
      "5                    240     6.00                32.92  Jennifer Lopez   \n",
      "6                    480     6.41                29.97  Jennifer Lopez   \n",
      "\n",
      "   High_Score  \n",
      "0         100  \n",
      "1         100  \n",
      "2         100  \n",
      "3         100  \n",
      "4         100  \n",
      "5         100  \n",
      "6         100  \n"
     ]
    }
   ],
   "source": [
    "print(data)"
   ]
  },
  {
   "cell_type": "code",
   "execution_count": 25,
   "metadata": {},
   "outputs": [
    {
     "name": "stdout",
     "output_type": "stream",
     "text": [
      "   Time_Delay_in_Minutes  LSD_ppm  Avg_Math_Test_Score    Test_Subject  \\\n",
      "0                      5     1.17                78.93  Jennifer Lopez   \n",
      "1                     15     2.97                58.20  Jennifer Lopez   \n",
      "2                     30     3.26                67.47  Jennifer Lopez   \n",
      "3                     60     4.69                37.47  Jennifer Lopez   \n",
      "4                    120     5.83                45.65  Jennifer Lopez   \n",
      "5                    240     6.00                32.92  Jennifer Lopez   \n",
      "6                    480     6.41                29.97  Jennifer Lopez   \n",
      "\n",
      "   High_Score  \n",
      "0      178.93  \n",
      "1      158.20  \n",
      "2      167.47  \n",
      "3      137.47  \n",
      "4      145.65  \n",
      "5      132.92  \n",
      "6      129.97  \n"
     ]
    }
   ],
   "source": [
    "# Overwrite values in rows for High Score to equal average score + 100\n",
    "data['High_Score'] = data['High_Score'] + data['Avg_Math_Test_Score']\n",
    "print(data)"
   ]
  },
  {
   "cell_type": "code",
   "execution_count": 26,
   "metadata": {},
   "outputs": [
    {
     "name": "stdout",
     "output_type": "stream",
     "text": [
      "   Time_Delay_in_Minutes  LSD_ppm  Avg_Math_Test_Score    Test_Subject  \\\n",
      "0                      5     1.17                78.93  Jennifer Lopez   \n",
      "1                     15     2.97                58.20  Jennifer Lopez   \n",
      "2                     30     3.26                67.47  Jennifer Lopez   \n",
      "3                     60     4.69                37.47  Jennifer Lopez   \n",
      "4                    120     5.83                45.65  Jennifer Lopez   \n",
      "5                    240     6.00                32.92  Jennifer Lopez   \n",
      "6                    480     6.41                29.97  Jennifer Lopez   \n",
      "\n",
      "   High_Score  \n",
      "0  32015.9449  \n",
      "1  25027.2400  \n",
      "2  28046.2009  \n",
      "3  18898.0009  \n",
      "4  21213.9225  \n",
      "5  17667.7264  \n",
      "6  16892.2009  \n"
     ]
    }
   ],
   "source": [
    "# Challenge: Square the values stored inside High_Score\n",
    "data['High_Score'] = data['High_Score'] * data['High_Score']\n",
    "print(data)\n",
    "# when you want to square a number you can also express it as ** 2\n",
    "# * 2 means multiplying by 2 and ** 2 is raising the number to the power of 2"
   ]
  },
  {
   "cell_type": "code",
   "execution_count": 27,
   "metadata": {},
   "outputs": [
    {
     "data": {
      "text/plain": [
       "pandas.core.series.Series"
      ]
     },
     "execution_count": 27,
     "metadata": {},
     "output_type": "execute_result"
    }
   ],
   "source": [
    "type(onlyMathScores)\n",
    "# Series is similar to an array. The key difference is that it is only a single dimension - one column.\n",
    "# A Pandas dataframe is a collection of series. A Dataframe has two-dimensions because it has both rows and columns."
   ]
  },
  {
   "cell_type": "code",
   "execution_count": 28,
   "metadata": {},
   "outputs": [
    {
     "name": "stdout",
     "output_type": "stream",
     "text": [
      "   LSD_ppm  Avg_Math_Test_Score\n",
      "0     1.17                78.93\n",
      "1     2.97                58.20\n",
      "2     3.26                67.47\n",
      "3     4.69                37.47\n",
      "4     5.83                45.65\n",
      "5     6.00                32.92\n",
      "6     6.41                29.97\n"
     ]
    }
   ],
   "source": [
    "# columnList = ['LSD_ppm', 'Avg_Math_Test_Score'] we created a list\n",
    "cleanData = data[['LSD_ppm','Avg_Math_Test_Score']] # created a Data Frame using that list.\n",
    "print(cleanData)"
   ]
  },
  {
   "cell_type": "code",
   "execution_count": 29,
   "metadata": {},
   "outputs": [
    {
     "data": {
      "text/plain": [
       "pandas.core.frame.DataFrame"
      ]
     },
     "execution_count": 29,
     "metadata": {},
     "output_type": "execute_result"
    }
   ],
   "source": [
    "type(cleanData)"
   ]
  },
  {
   "cell_type": "code",
   "execution_count": 30,
   "metadata": {},
   "outputs": [],
   "source": [
    "y = data[['Avg_Math_Test_Score']]\n",
    "# one pair of square brackets we are passing a string and the type would be a series\n",
    "# when we provide a list to our data frame we get out a dataframe\n",
    "# when we provide a string to our data frame we get out a series"
   ]
  },
  {
   "cell_type": "code",
   "execution_count": 31,
   "metadata": {},
   "outputs": [
    {
     "data": {
      "text/plain": [
       "pandas.core.frame.DataFrame"
      ]
     },
     "execution_count": 31,
     "metadata": {},
     "output_type": "execute_result"
    }
   ],
   "source": [
    "type(y)"
   ]
  },
  {
   "cell_type": "code",
   "execution_count": 32,
   "metadata": {},
   "outputs": [
    {
     "name": "stdout",
     "output_type": "stream",
     "text": [
      "   LSD_ppm\n",
      "0     1.17\n",
      "1     2.97\n",
      "2     3.26\n",
      "3     4.69\n",
      "4     5.83\n",
      "5     6.00\n",
      "6     6.41\n"
     ]
    },
    {
     "data": {
      "text/plain": [
       "pandas.core.frame.DataFrame"
      ]
     },
     "execution_count": 32,
     "metadata": {},
     "output_type": "execute_result"
    }
   ],
   "source": [
    "X = data[['LSD_ppm']]\n",
    "print(X)\n",
    "type(X)"
   ]
  },
  {
   "cell_type": "code",
   "execution_count": 33,
   "metadata": {},
   "outputs": [
    {
     "name": "stdout",
     "output_type": "stream",
     "text": [
      "   Time_Delay_in_Minutes  LSD_ppm  Avg_Math_Test_Score  High_Score\n",
      "0                      5     1.17                78.93  32015.9449\n",
      "1                     15     2.97                58.20  25027.2400\n",
      "2                     30     3.26                67.47  28046.2009\n",
      "3                     60     4.69                37.47  18898.0009\n",
      "4                    120     5.83                45.65  21213.9225\n",
      "5                    240     6.00                32.92  17667.7264\n",
      "6                    480     6.41                29.97  16892.2009\n"
     ]
    }
   ],
   "source": [
    "del data['Test_Subject']\n",
    "print(data)"
   ]
  },
  {
   "cell_type": "code",
   "execution_count": 34,
   "metadata": {},
   "outputs": [
    {
     "name": "stdout",
     "output_type": "stream",
     "text": [
      "   Time_Delay_in_Minutes  LSD_ppm  Avg_Math_Test_Score\n",
      "0                      5     1.17                78.93\n",
      "1                     15     2.97                58.20\n",
      "2                     30     3.26                67.47\n",
      "3                     60     4.69                37.47\n",
      "4                    120     5.83                45.65\n",
      "5                    240     6.00                32.92\n",
      "6                    480     6.41                29.97\n"
     ]
    }
   ],
   "source": [
    "del data['High_Score']\n",
    "print(data)"
   ]
  },
  {
   "cell_type": "markdown",
   "metadata": {},
   "source": [
    "## Regression & Analysis"
   ]
  },
  {
   "cell_type": "code",
   "execution_count": 89,
   "metadata": {},
   "outputs": [],
   "source": [
    "time = data[['Time_Delay_in_Minutes']]\n",
    "LSD = data[['LSD_ppm']]\n",
    "score = data[['Avg_Math_Test_Score']]\n",
    "# Extracts an object of type dataframe when you use double brackets"
   ]
  },
  {
   "cell_type": "code",
   "execution_count": 87,
   "metadata": {},
   "outputs": [
    {
     "data": {
      "image/png": "[encoded data removed]",
      "text/plain": [
       "<Figure size 432x288 with 1 Axes>"
      ]
     },
     "metadata": {
      "needs_background": "light"
     },
     "output_type": "display_data"
    }
   ],
   "source": [
    "%matplotlib inline\n",
    "\n",
    "plt.title('Tissue Concentration of LSD over time', fontsize = 17)\n",
    "plt.xlabel('Time in Minutes', fontsize = 14)\n",
    "plt.ylabel('Tissue LSD ppm', fontsize = 14)\n",
    "plt.text(x=0, y=-0.5, s='Wagner et al. (1968)', fontsize = 12)\n",
    "plt.xticks(fontsize = 14)\n",
    "plt.yticks(fontsize=14)\n",
    "\n",
    "plt.ylim(1,7)\n",
    "plt.xlim(0, 500)\n",
    "plt.style.use('classic')\n",
    "\n",
    "plt.plot(time, LSD, color = '#e74c3c', linewidth = 3)\n",
    "# changes the color line to green\n",
    "# kwargs is an abbreviation for key-word arguments, color is one of these kwargs\n",
    "# design is important in data visualization because the end goal is to present it to people.\n",
    "# hex code is an id for a color can be found at https://flatuicolors.com/palette/defo or https://www.materialpalette.com/\n",
    "plt.show()"
   ]
  },
  {
   "cell_type": "code",
   "execution_count": 125,
   "metadata": {},
   "outputs": [
    {
     "name": "stdout",
     "output_type": "stream",
     "text": [
      "Theta1:  -9.009466415296785\n",
      "Intercept:  89.12387376799308\n",
      "R-Square:  0.8778349707775889\n"
     ]
    }
   ],
   "source": [
    "regr = LinearRegression()\n",
    "regr.fit(LSD, score)\n",
    "print('Theta1: ', regr.coef_[0][0])\n",
    "regr.intercept_[0]\n",
    "print('Intercept: ', regr.intercept_[0])\n",
    "regr.score(LSD, score)\n",
    "print('R-Square: ', regr.score(LSD, score))\n",
    "predicted_score = regr.predict(LSD)"
   ]
  },
  {
   "cell_type": "code",
   "execution_count": 127,
   "metadata": {},
   "outputs": [
    {
     "data": {
      "image/png": "[encoded data removed]",
      "text/plain": [
       "<Figure size 432x288 with 1 Axes>"
      ]
     },
     "metadata": {
      "needs_background": "light"
     },
     "output_type": "display_data"
    }
   ],
   "source": [
    "%matplotlib inline\n",
    "\n",
    "plt.title('Arithmetic vs LSD-25', fontsize = 17)\n",
    "plt.xlabel('Tissue LSD ppm', fontsize = 14)\n",
    "plt.ylabel('Performance Score', fontsize = 14)\n",
    "plt.ylim(25, 85)\n",
    "plt.xlim(1, 6.5)\n",
    "plt.style.use('fivethirtyeight')\n",
    "plt.scatter(LSD, score, color = 'blue', s = 100, alpha= 0.5)\n",
    "plt.plot(LSD, predicted_score, color = 'red', linewidth = 3)\n",
    "plt.show()"
   ]
  },
  {
   "cell_type": "code",
   "execution_count": 123,
   "metadata": {},
   "outputs": [
    {
     "data": {
      "text/plain": [
       "pandas.core.frame.DataFrame"
      ]
     },
     "execution_count": 123,
     "metadata": {},
     "output_type": "execute_result"
    }
   ],
   "source": [
    "type(LSD)"
   ]
  },
  {
   "cell_type": "markdown",
   "metadata": {},
   "source": [
    "# Imports & Modules"
   ]
  },
  {
   "cell_type": "code",
   "execution_count": 36,
   "metadata": {},
   "outputs": [],
   "source": [
    "# You can think of Python Modules as frameworks or libraries. Every file that ends in .py is a Python Module. A .py file is a file that contains Python Code.\n",
    "import life"
   ]
  },
  {
   "cell_type": "code",
   "execution_count": 37,
   "metadata": {},
   "outputs": [
    {
     "data": {
      "text/plain": [
       "module"
      ]
     },
     "execution_count": 37,
     "metadata": {},
     "output_type": "execute_result"
    }
   ],
   "source": [
    "type(life)"
   ]
  },
  {
   "cell_type": "code",
   "execution_count": 38,
   "metadata": {},
   "outputs": [
    {
     "data": {
      "text/plain": [
       "42"
      ]
     },
     "execution_count": 38,
     "metadata": {},
     "output_type": "execute_result"
    }
   ],
   "source": [
    "life.theAnswer\n",
    "# fetch the value of the name theAnswer that lives inside the module called life"
   ]
  },
  {
   "cell_type": "code",
   "execution_count": 39,
   "metadata": {},
   "outputs": [
    {
     "name": "stdout",
     "output_type": "stream",
     "text": [
      "3.141592653589793\n"
     ]
    }
   ],
   "source": [
    "import math\n",
    "print(math.pi)"
   ]
  },
  {
   "cell_type": "code",
   "execution_count": 40,
   "metadata": {},
   "outputs": [
    {
     "name": "stdout",
     "output_type": "stream",
     "text": [
      "2.718281828459045\n"
     ]
    }
   ],
   "source": [
    "print(math.e)"
   ]
  },
  {
   "cell_type": "code",
   "execution_count": 41,
   "metadata": {},
   "outputs": [],
   "source": [
    "from life import theAnswer"
   ]
  },
  {
   "cell_type": "code",
   "execution_count": 42,
   "metadata": {},
   "outputs": [
    {
     "name": "stdout",
     "output_type": "stream",
     "text": [
      "42\n"
     ]
    }
   ],
   "source": [
    "myFavoriteNumber = theAnswer\n",
    "print(myFavoriteNumber)"
   ]
  },
  {
   "cell_type": "code",
   "execution_count": 43,
   "metadata": {},
   "outputs": [],
   "source": [
    "theAnswer = theAnswer + 1"
   ]
  },
  {
   "cell_type": "code",
   "execution_count": 44,
   "metadata": {},
   "outputs": [
    {
     "name": "stdout",
     "output_type": "stream",
     "text": [
      "43\n"
     ]
    }
   ],
   "source": [
    "print(theAnswer)"
   ]
  },
  {
   "cell_type": "code",
   "execution_count": 92,
   "metadata": {},
   "outputs": [],
   "source": [
    "import matplotlib.pyplot as plt\n",
    "from sklearn.linear_model import LinearRegression"
   ]
  },
  {
   "cell_type": "markdown",
   "metadata": {},
   "source": [
    "## Defining & Calling Functions"
   ]
  },
  {
   "cell_type": "code",
   "execution_count": 46,
   "metadata": {},
   "outputs": [],
   "source": [
    "# Define the Function (usually gets highlighted in blue)\n",
    "def get_milk():\n",
    "    print('Open door')\n",
    "    print('Walk to the store')\n",
    "    print('Buy milk on the ground floor')\n",
    "    print('Return with milk galore')"
   ]
  },
  {
   "cell_type": "code",
   "execution_count": 47,
   "metadata": {},
   "outputs": [
    {
     "name": "stdout",
     "output_type": "stream",
     "text": [
      "Open door\n",
      "Walk to the store\n",
      "Buy milk on the ground floor\n",
      "Return with milk galore\n"
     ]
    }
   ],
   "source": [
    "# Call the function (regular black colored python code)\n",
    "get_milk()"
   ]
  },
  {
   "cell_type": "markdown",
   "metadata": {},
   "source": [
    "## Arguments & Parameters"
   ]
  },
  {
   "cell_type": "code",
   "execution_count": 48,
   "metadata": {},
   "outputs": [],
   "source": [
    "def fill_the_fridge(amount):\n",
    "# amount is the parameter - it refers to the input of the function\n",
    "    print('Open door')\n",
    "    print('Walk to the store')\n",
    "    print('Buy ' +  amount  + ' cartons on the ground floor')\n",
    "    print('Return with milk galore')"
   ]
  },
  {
   "cell_type": "code",
   "execution_count": 49,
   "metadata": {},
   "outputs": [
    {
     "name": "stdout",
     "output_type": "stream",
     "text": [
      "Open door\n",
      "Walk to the store\n",
      "Buy five cartons on the ground floor\n",
      "Return with milk galore\n"
     ]
    }
   ],
   "source": [
    "fill_the_fridge('five')"
   ]
  },
  {
   "cell_type": "code",
   "execution_count": 50,
   "metadata": {},
   "outputs": [
    {
     "name": "stdout",
     "output_type": "stream",
     "text": [
      "Open door\n",
      "Walk to the store\n",
      "Buy one thousand cartons on the ground floor\n",
      "Return with milk galore\n"
     ]
    }
   ],
   "source": [
    "fill_the_fridge('one thousand')\n",
    "# one-thousand is the argument of the function - it refers to the actual value we're giving the function when we're calling it "
   ]
  },
  {
   "cell_type": "code",
   "execution_count": 51,
   "metadata": {},
   "outputs": [],
   "source": [
    "def milk_mission(amount, destination):\n",
    "    print('Open door')\n",
    "    print('Walk to the ' + destination)\n",
    "    print('Buy ' +  amount  + ' cartons on the ground floor.')\n",
    "    print('Return with milk galore')"
   ]
  },
  {
   "cell_type": "code",
   "execution_count": 52,
   "metadata": {},
   "outputs": [
    {
     "name": "stdout",
     "output_type": "stream",
     "text": [
      "Open door\n",
      "Walk to the department store\n",
      "Buy twenty cartons on the ground floor.\n",
      "Return with milk galore\n"
     ]
    }
   ],
   "source": [
    "milk_mission(destination = 'department store', amount = 'twenty')\n",
    "# The order we give our arguments matters.\n",
    "# Providing keywords in a function makes everything more readable. "
   ]
  },
  {
   "cell_type": "markdown",
   "metadata": {},
   "source": [
    "## Results & Return Values"
   ]
  },
  {
   "cell_type": "code",
   "execution_count": 53,
   "metadata": {},
   "outputs": [],
   "source": [
    "def times(x,y):\n",
    "    result = x * y\n",
    "    return result \n",
    "# the output is what comes after you put a return statement"
   ]
  },
  {
   "cell_type": "code",
   "execution_count": 54,
   "metadata": {},
   "outputs": [
    {
     "data": {
      "text/plain": [
       "15.9826"
      ]
     },
     "execution_count": 54,
     "metadata": {},
     "output_type": "execute_result"
    }
   ],
   "source": [
    "times(3.14, 5.09)"
   ]
  },
  {
   "cell_type": "code",
   "execution_count": 55,
   "metadata": {},
   "outputs": [
    {
     "data": {
      "text/plain": [
       "'NiNiNiNi'"
      ]
     },
     "execution_count": 55,
     "metadata": {},
     "output_type": "execute_result"
    }
   ],
   "source": [
    "times('Ni', 4)"
   ]
  },
  {
   "cell_type": "code",
   "execution_count": 56,
   "metadata": {},
   "outputs": [
    {
     "name": "stdout",
     "output_type": "stream",
     "text": [
      "The Zen of Python, by Tim Peters\n",
      "\n",
      "Beautiful is better than ugly.\n",
      "Explicit is better than implicit.\n",
      "Simple is better than complex.\n",
      "Complex is better than complicated.\n",
      "Flat is better than nested.\n",
      "Sparse is better than dense.\n",
      "Readability counts.\n",
      "Special cases aren't special enough to break the rules.\n",
      "Although practicality beats purity.\n",
      "Errors should never pass silently.\n",
      "Unless explicitly silenced.\n",
      "In the face of ambiguity, refuse the temptation to guess.\n",
      "There should be one-- and preferably only one --obvious way to do it.\n",
      "Although that way may not be obvious at first unless you're Dutch.\n",
      "Now is better than never.\n",
      "Although never is often better than *right* now.\n",
      "If the implementation is hard to explain, it's a bad idea.\n",
      "If the implementation is easy to explain, it may be a good idea.\n",
      "Namespaces are one honking great idea -- let's do more of those!\n"
     ]
    }
   ],
   "source": [
    "import this"
   ]
  },
  {
   "cell_type": "markdown",
   "metadata": {},
   "source": [
    "## Objects"
   ]
  },
  {
   "cell_type": "code",
   "execution_count": 57,
   "metadata": {},
   "outputs": [
    {
     "name": "stdout",
     "output_type": "stream",
     "text": [
      "I've calculated your chance of survival, but I don't think you'll like it.\n"
     ]
    }
   ],
   "source": [
    "life.quote_marvin()"
   ]
  },
  {
   "cell_type": "code",
   "execution_count": 58,
   "metadata": {},
   "outputs": [
    {
     "data": {
      "text/plain": [
       "str"
      ]
     },
     "execution_count": 58,
     "metadata": {},
     "output_type": "execute_result"
    }
   ],
   "source": [
    "myAge = 'Two Hundred'\n",
    "type(myAge)"
   ]
  },
  {
   "cell_type": "code",
   "execution_count": 59,
   "metadata": {},
   "outputs": [
    {
     "data": {
      "text/plain": [
       "float"
      ]
     },
     "execution_count": 59,
     "metadata": {},
     "output_type": "execute_result"
    }
   ],
   "source": [
    "myAge = 20.53\n",
    "type(myAge)"
   ]
  },
  {
   "cell_type": "code",
   "execution_count": 60,
   "metadata": {},
   "outputs": [],
   "source": [
    "import math"
   ]
  },
  {
   "cell_type": "code",
   "execution_count": 61,
   "metadata": {},
   "outputs": [
    {
     "name": "stdout",
     "output_type": "stream",
     "text": [
      "7.946068210127573\n"
     ]
    }
   ],
   "source": [
    "result = life.square_root(63.14)\n",
    "print(result)"
   ]
  },
  {
   "cell_type": "markdown",
   "metadata": {},
   "source": [
    "## Code Style "
   ]
  },
  {
   "cell_type": "markdown",
   "metadata": {},
   "source": [
    "##### Style Guide Pep 8 for Python Code - suggestion for writing readable Python code\n",
    "##### Indentation 4 spaces\n",
    "##### Naming Conventions are handy for being able to read Python code and know a little bit more about what is being typed\n",
    "##### Variables: X, y if you're using a descriptive name separate words with an underscore\n",
    "##### Module & Packages, Functions & Methods lowercase separated by underscores"
   ]
  },
  {
   "cell_type": "code",
   "execution_count": null,
   "metadata": {},
   "outputs": [],
   "source": [
    "##### Mathematical Optimisation - \n",
    "##### Calculus\n",
    "##### Derivatives \n",
    "##### Loops\n",
    "##### Algorithms - a set of mathematical instructions or rules that if given to a computer helps solve a problem\n",
    "##### Gradient Descent \n",
    "##### Residual Sum of Squares (RSS) the lower our number, the better our line and our estimates. It is an example of a cost function.\n",
    "##### Cost Function/Loss Function/Error Function often used interchangably.\n",
    "##### Objective Function \n"
   ]
  },
  {
   "cell_type": "code",
   "execution_count": null,
   "metadata": {},
   "outputs": [],
   "source": []
  }
 ],
 "metadata": {
  "kernelspec": {
   "display_name": "Python 3",
   "language": "python",
   "name": "python3"
  },
  "language_info": {
   "codemirror_mode": {
    "name": "ipython",
    "version": 3
   },
   "file_extension": ".py",
   "mimetype": "text/x-python",
   "name": "python",
   "nbconvert_exporter": "python",
   "pygments_lexer": "ipython3",
   "version": "3.8.3"
  }
 },
 "nbformat": 4,
 "nbformat_minor": 4
}
